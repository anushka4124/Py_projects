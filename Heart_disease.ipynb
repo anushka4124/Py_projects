{
  "nbformat": 4,
  "nbformat_minor": 0,
  "metadata": {
    "colab": {
      "provenance": [],
      "authorship_tag": "ABX9TyPk0OaOXaX/uXPYHVPcHQWy",
      "include_colab_link": true
    },
    "kernelspec": {
      "name": "python3",
      "display_name": "Python 3"
    },
    "language_info": {
      "name": "python"
    }
  },
  "cells": [
    {
      "cell_type": "markdown",
      "metadata": {
        "id": "view-in-github",
        "colab_type": "code"
      },
      "source": [
        "<a href=\"https://colab.research.google.com/github/anushka4124/Py_projects/blob/main/Heart_disease.ipynb\" target=\"_parent\"><img src=\"https://colab.research.google.com/assets/colab-badge.svg\" alt=\"Open In Colab\"/></a>"
      ]
    },
    {
      "cell_type": "code",
      "source": [
        "import numpy as np\n",
        "import matplotlib.pyplot as plt\n",
        "from matplotlib import rcParams\n",
        "from matplotlib.cm import rainbow\n",
        "%matplotlib inline\n",
        "import warnings\n",
        "warnings.filterwarnings(\"ignore\")"
      ],
      "metadata": {
        "id": "oxexHmcu5V7p"
      },
      "execution_count": null,
      "outputs": []
    },
    {
      "cell_type": "code",
      "source": [
        "pip install ucimlrepo"
      ],
      "metadata": {
        "id": "EYAZioiwATjV"
      },
      "execution_count": null,
      "outputs": []
    },
    {
      "cell_type": "code",
      "source": [
        "from ucimlrepo import fetch_ucirepo\n",
        "\n",
        "# fetch dataset\n",
        "heart_disease = fetch_ucirepo(id=45)\n",
        "\n",
        "# data (as pandas dataframes)\n",
        "X = heart_disease.data.features\n",
        "y = heart_disease.data.targets\n",
        "\n",
        "# metadata\n",
        "print(heart_disease.metadata)\n",
        "\n",
        "# variable information\n",
        "print(heart_disease.variables)\n",
        "\n"
      ],
      "metadata": {
        "id": "wqXcDU70Y7HT"
      },
      "execution_count": null,
      "outputs": []
    },
    {
      "cell_type": "code",
      "source": [
        "import pandas as pd\n",
        "X=pd.DataFrame(X)\n",
        "y=pd.DataFrame(y)\n",
        "# X.ffill(inplace=True)"
      ],
      "metadata": {
        "id": "IhRca5peCXSw"
      },
      "execution_count": null,
      "outputs": []
    },
    {
      "cell_type": "code",
      "source": [
        "from sklearn.ensemble import RandomForestClassifier\n",
        "from sklearn.tree import DecisionTreeClassifier\n",
        "from sklearn.neighbors import KNeighborsClassifier"
      ],
      "metadata": {
        "id": "3zgbEOaI9qpu"
      },
      "execution_count": null,
      "outputs": []
    },
    {
      "cell_type": "code",
      "source": [
        "df=pd.DataFrame(heart_disease.variables)\n",
        "print(df)"
      ],
      "metadata": {
        "id": "74P3ERmP-A6o"
      },
      "execution_count": null,
      "outputs": []
    },
    {
      "cell_type": "code",
      "source": [
        "X.info()"
      ],
      "metadata": {
        "id": "2okfqvc7-bwA"
      },
      "execution_count": null,
      "outputs": []
    },
    {
      "cell_type": "code",
      "source": [
        "X.describe()\n",
        "y=np.array(y)\n",
        "y=np.where(y!=0,1,0)\n",
        "y=pd.DataFrame(y,columns=['target'])\n",
        "print(y)"
      ],
      "metadata": {
        "id": "ket1KY1--zoU"
      },
      "execution_count": null,
      "outputs": []
    },
    {
      "cell_type": "code",
      "source": [
        "import seaborn as sns\n",
        "corr_mat=X.corr()\n",
        "top_corr_features=corr_mat.index\n",
        "plt.figure(figsize=(20,20))\n",
        "g=sns.heatmap(X[top_corr_features].corr(),annot=True,cmap=\"RdYlGn\")"
      ],
      "metadata": {
        "id": "tH4Yu34PFhrG"
      },
      "execution_count": null,
      "outputs": []
    },
    {
      "cell_type": "code",
      "source": [
        "X.hist()\n",
        "y.hist()"
      ],
      "metadata": {
        "id": "2Xfj1bD_IXrN"
      },
      "execution_count": null,
      "outputs": []
    },
    {
      "cell_type": "code",
      "source": [
        "sns.set_style(\"white\")\n",
        "sns.countplot(palette=\"RdBu_r\",data=y,x='target')\n",
        "\n"
      ],
      "metadata": {
        "id": "B-TGkFleItgy"
      },
      "execution_count": null,
      "outputs": []
    },
    {
      "cell_type": "code",
      "source": [
        "data=pd.get_dummies(X,columns=['sex','cp','fbs','restecg','exang','slope','thal'])"
      ],
      "metadata": {
        "id": "wyMLSSZyJKhy"
      },
      "execution_count": null,
      "outputs": []
    },
    {
      "cell_type": "code",
      "source": [
        "from sklearn.preprocessing import StandardScaler\n",
        "from sklearn.model_selection import train_test_split, GridSearchCV\n",
        "st=StandardScaler()\n",
        "cols=['age','trestbps','chol','thalach','oldpeak']\n",
        "data[cols]=st.fit_transform(data[cols])\n",
        "data.head()"
      ],
      "metadata": {
        "id": "5B8MdvwFQElI"
      },
      "execution_count": null,
      "outputs": []
    },
    {
      "cell_type": "code",
      "source": [
        "missing=X.isnull().any().any()\n",
        "print(missing)"
      ],
      "metadata": {
        "id": "tqJyb1XtTuCP"
      },
      "execution_count": null,
      "outputs": []
    },
    {
      "cell_type": "code",
      "source": [
        "X.ffill(inplace=True)\n"
      ],
      "metadata": {
        "id": "Hl5l63zgUFyx"
      },
      "execution_count": null,
      "outputs": []
    },
    {
      "cell_type": "code",
      "source": [
        "X_train,X_test,y_train,y_test=train_test_split(X,y,test_size=0.2,random_state=46)\n",
        "model=RandomForestClassifier(random_state=43)\n",
        "model.fit(X_train,y_train)\n",
        "y_pred=model.predict(X_test)\n",
        "from sklearn.metrics import accuracy_score, classification_report\n",
        "accuracy=accuracy_score(y_test,y_pred)\n",
        "print(f\"Model accuracy: {accuracy:.2f}\")\n",
        "report=classification_report(y_test,y_pred)\n",
        "print(\"Classification Report: \\n\",report)\n"
      ],
      "metadata": {
        "id": "9G7j28sdUOhm"
      },
      "execution_count": null,
      "outputs": []
    },
    {
      "cell_type": "code",
      "source": [
        "import matplotlib.pyplot as plt\n",
        "import seaborn as sns\n",
        "from sklearn.metrics import confusion_matrix\n",
        "\n",
        "# Assuming you already have y_test and y_pred\n",
        "cm = confusion_matrix(y_test, y_pred)\n",
        "\n",
        "# Create a heatmap of the confusion matrix\n",
        "plt.figure(figsize=(8, 6))\n",
        "sns.heatmap(cm, annot=True, fmt='d', cmap='Blues', cbar=True)\n",
        "plt.xlabel('Predicted Labels')\n",
        "plt.ylabel('True Labels')\n",
        "plt.title('Confusion Matrix')\n",
        "plt.show()"
      ],
      "metadata": {
        "id": "J0wDEIkFdASI"
      },
      "execution_count": null,
      "outputs": []
    },
    {
      "cell_type": "code",
      "source": [
        "X_train,X_test,y_train,y_test=train_test_split(X,y,test_size=0.2,random_state=45)\n",
        "model=KNeighborsClassifier(metric='hamming') #hamming\n",
        "model.fit(X_train,y_train)\n",
        "y_pred=model.predict(X_test)\n",
        "from sklearn.metrics import accuracy_score, classification_report\n",
        "accuracy=accuracy_score(y_test,y_pred)\n",
        "print(f\"Model accuracy: {accuracy:.2f}\")\n",
        "report=classification_report(y_test,y_pred)\n",
        "print(\"Classification Report: \\n\",report)"
      ],
      "metadata": {
        "id": "AVdIFXY_WvKs"
      },
      "execution_count": null,
      "outputs": []
    },
    {
      "cell_type": "code",
      "source": [
        "import matplotlib.pyplot as plt\n",
        "import seaborn as sns\n",
        "from sklearn.metrics import confusion_matrix\n",
        "\n",
        "# Assuming you already have y_test and y_pred\n",
        "cm = confusion_matrix(y_test, y_pred)\n",
        "\n",
        "# Create a heatmap of the confusion matrix\n",
        "plt.figure(figsize=(8, 6))\n",
        "sns.heatmap(cm, annot=True, fmt='d', cmap='Blues', cbar=True)\n",
        "plt.xlabel('Predicted Labels')\n",
        "plt.ylabel('True Labels')\n",
        "plt.title('Confusion Matrix')\n",
        "plt.show()"
      ],
      "metadata": {
        "id": "Gs_CbG6LdXa7"
      },
      "execution_count": null,
      "outputs": []
    },
    {
      "cell_type": "code",
      "source": [
        "X_train,X_test,y_train,y_test=train_test_split(X,y,test_size=0.2,random_state=46)\n",
        "model=DecisionTreeClassifier(random_state=42,min_samples_split=10)\n",
        "model.fit(X_train,y_train)\n",
        "y_pred=model.predict(X_test)\n",
        "from sklearn.metrics import accuracy_score, classification_report\n",
        "accuracy=accuracy_score(y_test,y_pred)\n",
        "print(f\"Model accuracy: {accuracy:.2f}\")\n",
        "report=classification_report(y_test,y_pred)\n",
        "print(\"Classification Report: \\n\",report)"
      ],
      "metadata": {
        "id": "Y68C0CxLbfgX"
      },
      "execution_count": null,
      "outputs": []
    },
    {
      "cell_type": "code",
      "source": [
        "import matplotlib.pyplot as plt\n",
        "import seaborn as sns\n",
        "from sklearn.metrics import confusion_matrix\n",
        "\n",
        "# Assuming you already have y_test and y_pred\n",
        "cm = confusion_matrix(y_test, y_pred)\n",
        "\n",
        "# Create a heatmap of the confusion matrix\n",
        "plt.figure(figsize=(8, 6))\n",
        "sns.heatmap(cm, annot=True, fmt='d', cmap='Blues', cbar=True)\n",
        "plt.xlabel('Predicted Labels')\n",
        "plt.ylabel('True Labels')\n",
        "plt.title('Confusion Matrix')\n",
        "plt.show()"
      ],
      "metadata": {
        "id": "9DXJddtVddqa"
      },
      "execution_count": null,
      "outputs": []
    },
    {
      "cell_type": "code",
      "source": [
        "from sklearn.linear_model import LogisticRegression\n",
        "X_train,X_test,y_train,y_test=train_test_split(X,y,test_size=0.2,random_state=46)\n",
        "model=LogisticRegression()\n",
        "model.fit(X_train,y_train)\n",
        "y_pred=model.predict(X_test)\n",
        "from sklearn.metrics import accuracy_score, classification_report\n",
        "accuracy=accuracy_score(y_test,y_pred)\n",
        "print(f\"Model accuracy: {accuracy:.2f}\")\n",
        "report=classification_report(y_test,y_pred)\n",
        "print(\"Classification Report: \\n\",report)"
      ],
      "metadata": {
        "id": "dJnJr4hVckY6"
      },
      "execution_count": null,
      "outputs": []
    },
    {
      "cell_type": "code",
      "source": [
        "import matplotlib.pyplot as plt\n",
        "import seaborn as sns\n",
        "from sklearn.metrics import confusion_matrix\n",
        "\n",
        "# Assuming you already have y_test and y_pred\n",
        "cm = confusion_matrix(y_test, y_pred)\n",
        "\n",
        "# Create a heatmap of the confusion matrix\n",
        "plt.figure(figsize=(8, 6))\n",
        "sns.heatmap(cm, annot=True, fmt='d', cmap='Blues', cbar=True)\n",
        "plt.xlabel('Predicted Labels')\n",
        "plt.ylabel('True Labels')\n",
        "plt.title('Confusion Matrix')\n",
        "plt.show()"
      ],
      "metadata": {
        "id": "CT9RLs9Wdir_"
      },
      "execution_count": null,
      "outputs": []
    },
    {
      "cell_type": "code",
      "source": [
        "from xgboost import XGBClassifier\n",
        "X_train,X_test,y_train,y_test=train_test_split(X,y,test_size=0.2,random_state=50)\n",
        "model=XGBClassifier(random_state=42)\n",
        "model.fit(X_train,y_train)\n",
        "y_pred=model.predict(X_test)\n",
        "from sklearn.metrics import accuracy_score, classification_report\n",
        "accuracy=accuracy_score(y_test,y_pred)\n",
        "print(f\"Model accuracy: {accuracy:.2f}\")\n",
        "report=classification_report(y_test,y_pred)\n",
        "print(\"Classification Report: \\n\",report)"
      ],
      "metadata": {
        "id": "eaobWVELd5Zz"
      },
      "execution_count": null,
      "outputs": []
    },
    {
      "cell_type": "code",
      "source": [
        "import matplotlib.pyplot as plt\n",
        "import seaborn as sns\n",
        "from sklearn.metrics import confusion_matrix\n",
        "\n",
        "# Assuming you already have y_test and y_pred\n",
        "cm = confusion_matrix(y_test, y_pred)\n",
        "\n",
        "# Create a heatmap of the confusion matrix\n",
        "plt.figure(figsize=(8, 6))\n",
        "sns.heatmap(cm, annot=True, fmt='d', cmap='Blues', cbar=True)\n",
        "plt.xlabel('Predicted Labels')\n",
        "plt.ylabel('True Labels')\n",
        "plt.title('Confusion Matrix')\n",
        "plt.show()"
      ],
      "metadata": {
        "id": "W8FrejQAfpHR"
      },
      "execution_count": null,
      "outputs": []
    }
  ]
}
